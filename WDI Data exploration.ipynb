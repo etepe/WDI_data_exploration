{
 "cells": [
  {
   "cell_type": "markdown",
   "metadata": {},
   "source": [
    "# We will explore World Development Index Data in this notebook"
   ]
  },
  {
   "cell_type": "markdown",
   "metadata": {},
   "source": [
    "### Let's import the data first"
   ]
  },
  {
   "cell_type": "code",
   "execution_count": null,
   "metadata": {},
   "outputs": [],
   "source": [
    "import pandas as pd\n",
    "import numpy as np\n",
    "\n",
    "\n",
    "world_development_indicators = pd.read_csv('/Users/erdi/Downloads/world-development-indicators-2/Indicators.csv')"
   ]
  },
  {
   "cell_type": "markdown",
   "metadata": {},
   "source": [
    "We can take a look at the countries and indicators."
   ]
  },
  {
   "cell_type": "code",
   "execution_count": null,
   "metadata": {},
   "outputs": [],
   "source": [
    "countries = world_development_indicators['CountryName'].unique().tolist()\n",
    "indicators = world_development_indicators['IndicatorName'].unique().tolist()\n",
    "\n",
    "print(countries)\n",
    "print(indicators)"
   ]
  },
  {
   "cell_type": "markdown",
   "metadata": {},
   "source": [
    "### In this notebook we will explore a subset of the complete data. We will chose some of the countries and indicators and then visualize each indicator seperately."
   ]
  },
  {
   "cell_type": "code",
   "execution_count": null,
   "metadata": {},
   "outputs": [],
   "source": [
    "#subset of countries\n",
    "\n",
    "country_groups=['Turkey','South Africa', 'Russian Federation', 'Israel', 'Korea, Rep.', 'Argentina', 'Brazil', 'India' ,'Venezuela, RB', 'Poland']\n",
    "\n",
    "#subset of indiocators\n",
    "\n",
    "indicator_set=['Labor force, female (% of total labor force)','Military expenditure (% of GDP)','High-technology exports (% of manufactured exports)','Armed forces personnel (% of total labor force)'\n",
    "              'Military expenditure (% of central government expenditure)','Tax revenue (% of GDP)','Central government debt, total (% of GDP)',\n",
    "              'Urban population (% of total)','Imports of goods and services (% of GDP)', 'Cash surplus/deficit (% of GDP)',\n",
    "               'Government expenditure on education as % of GDP (%)', 'Mobile cellular subscriptions (per 100 people)', 'GDP growth (annual %)',\n",
    "              'Unemployment, total (% of total labor force)','Real interest rate (%)']"
   ]
  },
  {
   "cell_type": "code",
   "execution_count": null,
   "metadata": {},
   "outputs": [],
   "source": [
    "#Now we filter the data\n",
    "\n",
    "subset_mesh=(world_development_indicators['CountryName'].isin(country_groups))&(world_development_indicators['IndicatorName'].isin(indicator_set))\n",
    "\n",
    "subset_data=world_development_indicators.loc[subset_mesh]\n"
   ]
  },
  {
   "cell_type": "markdown",
   "metadata": {},
   "source": [
    "# Creating a function for Pandas Dataframe preperation\n",
    "\n",
    "We will write a function to create a Pandas Dataframe for each indicator. We will assign the number of the indicator in the indicator subset and the function will automatically create the dataframe with the values of each countries in columns."
   ]
  },
  {
   "cell_type": "code",
   "execution_count": null,
   "metadata": {},
   "outputs": [],
   "source": [
    "def indicator_data_prepare(j):\n",
    "    indicator_raw_data=subset_data.loc[subset_data['IndicatorName']==indicator_set[j]]\n",
    "\n",
    "    indicator_data_df=[]\n",
    "    cols_for_loop=['Year','Value']\n",
    "\n",
    "    for i in range(0,len(country_groups)):\n",
    "        cols_in_loop=['Year',country_groups[i]]\n",
    "        sub_dat=indicator_raw_data.loc[indicator_raw_data['CountryName']==country_groups[i]]\n",
    "        sub_dat=sub_dat[cols_for_loop]\n",
    "        sub_dat.columns=cols_in_loop\n",
    "\n",
    "\n",
    "\n",
    "\n",
    "        if i==0:\n",
    "            indicator_data_df=sub_dat\n",
    "\n",
    "        else:\n",
    "            indicator_data_df=pd.merge(indicator_data_df,sub_dat, on='Year', how='outer')\n",
    "\n",
    "    indicator_data_df.set_index('Year',inplace=True)\n",
    "    \n",
    "    return indicator_data_df"
   ]
  },
  {
   "cell_type": "markdown",
   "metadata": {},
   "source": [
    "We can now plot the data of 'Unemployment, total (% of total labor force)' indicator."
   ]
  },
  {
   "cell_type": "code",
   "execution_count": null,
   "metadata": {},
   "outputs": [],
   "source": [
    "unemployment_df=indicator_data_prepare(12)\n",
    "print(indicator_set[12])\n",
    "unemployment_df.plot(subplots=True, figsize=(10,20),kind='line', grid=True, use_index=True)"
   ]
  }
 ],
 "metadata": {
  "kernelspec": {
   "display_name": "Python 3",
   "language": "python",
   "name": "python3"
  },
  "language_info": {
   "codemirror_mode": {
    "name": "ipython",
    "version": 3
   },
   "file_extension": ".py",
   "mimetype": "text/x-python",
   "name": "python",
   "nbconvert_exporter": "python",
   "pygments_lexer": "ipython3",
   "version": "3.6.4"
  }
 },
 "nbformat": 4,
 "nbformat_minor": 2
}
